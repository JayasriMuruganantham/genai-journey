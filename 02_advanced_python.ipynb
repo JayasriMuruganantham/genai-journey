{
  "nbformat": 4,
  "nbformat_minor": 0,
  "metadata": {
    "colab": {
      "provenance": [],
      "authorship_tag": "ABX9TyMcPqyB9NYq9/0rB/k0N/BB",
      "include_colab_link": true
    },
    "kernelspec": {
      "name": "python3",
      "display_name": "Python 3"
    },
    "language_info": {
      "name": "python"
    }
  },
  "cells": [
    {
      "cell_type": "markdown",
      "metadata": {
        "id": "view-in-github",
        "colab_type": "text"
      },
      "source": [
        "<a href=\"https://colab.research.google.com/github/JayasriMuruganantham/genai-journey/blob/main/02_advanced_python.ipynb\" target=\"_parent\"><img src=\"https://colab.research.google.com/assets/colab-badge.svg\" alt=\"Open In Colab\"/></a>"
      ]
    },
    {
      "cell_type": "code",
      "execution_count": 1,
      "metadata": {
        "colab": {
          "base_uri": "https://localhost:8080/"
        },
        "id": "BkTCfXthosbW",
        "outputId": "34207798-54d5-4878-a9b9-1dac5d3f2a46"
      },
      "outputs": [
        {
          "output_type": "stream",
          "name": "stdout",
          "text": [
            "Week 2 folder created!\n"
          ]
        }
      ],
      "source": [
        "import os\n",
        "\n",
        "# Create week2 folder\n",
        "os.makedirs(\"week2\", exist_ok=True)\n",
        "print(\"Week 2 folder created!\")\n"
      ]
    },
    {
      "cell_type": "code",
      "source": [
        "# 1. Functions\n",
        "def greet(name):\n",
        "    return f\"Hello, {name}! Welcome to GenAI Week 2.\""
      ],
      "metadata": {
        "id": "ONgCZQEkpQlZ"
      },
      "execution_count": 2,
      "outputs": []
    },
    {
      "cell_type": "code",
      "source": [
        "print(greet(\"Jayasri\"))"
      ],
      "metadata": {
        "colab": {
          "base_uri": "https://localhost:8080/"
        },
        "id": "UIaGyl8jpZbA",
        "outputId": "9609ab9e-2b2a-41c0-cacc-acae2b5fc8db"
      },
      "execution_count": 3,
      "outputs": [
        {
          "output_type": "stream",
          "name": "stdout",
          "text": [
            "Hello, Jayasri! Welcome to GenAI Week 2.\n"
          ]
        }
      ]
    },
    {
      "cell_type": "code",
      "source": [
        "# 2. Loops and list comprehension\n",
        "numbers = [1, 2, 3, 4, 5]\n",
        "squared = [n**2 for n in numbers]\n",
        "print(\"Squared numbers:\", squared)"
      ],
      "metadata": {
        "colab": {
          "base_uri": "https://localhost:8080/"
        },
        "id": "reglweBqpct4",
        "outputId": "ea02826a-d56c-4986-c7fa-7ac3f22c0ad9"
      },
      "execution_count": 4,
      "outputs": [
        {
          "output_type": "stream",
          "name": "stdout",
          "text": [
            "Squared numbers: [1, 4, 9, 16, 25]\n"
          ]
        }
      ]
    },
    {
      "cell_type": "code",
      "source": [
        "# 3. Conditionals\n",
        "x = 10\n",
        "if x > 10:\n",
        "    print(\"x is greater than 10\")\n",
        "elif x == 10:\n",
        "    print(\"x is equal to 10\")\n",
        "else:\n",
        "    print(\"x is less than 10\")"
      ],
      "metadata": {
        "colab": {
          "base_uri": "https://localhost:8080/"
        },
        "id": "osf8NVoypgdA",
        "outputId": "d0740e19-2fa1-4f6c-9da5-7e09ef9439d6"
      },
      "execution_count": 5,
      "outputs": [
        {
          "output_type": "stream",
          "name": "stdout",
          "text": [
            "x is equal to 10\n"
          ]
        }
      ]
    },
    {
      "cell_type": "code",
      "source": [
        "\n",
        "# 4. File I/O\n",
        "with open(\"week2/python_demo.txt\", \"w\") as f:\n",
        "    f.write(\"Week 2 Advanced Python output.\\n\")\n",
        "    f.write(f\"Greeting: {greet('Jayasri')}\\n\")\n",
        "    f.write(f\"Squared numbers: {squared}\\n\")\n",
        "\n",
        "print(\"Python output saved in week2/python_demo.txt\")"
      ],
      "metadata": {
        "colab": {
          "base_uri": "https://localhost:8080/"
        },
        "id": "UCoCXpc1pj8-",
        "outputId": "afa48828-2def-4df1-ad0f-cedcbd42ef6b"
      },
      "execution_count": 6,
      "outputs": [
        {
          "output_type": "stream",
          "name": "stdout",
          "text": [
            "Python output saved in week2/python_demo.txt\n"
          ]
        }
      ]
    },
    {
      "cell_type": "markdown",
      "source": [
        "<a href=\"https://colab.research.google.com/github/JayasriMuruganantham/genai-journey/blob/main/week2/02_advanced_python.ipynb\" target=\"_parent\">\n",
        "<img src=\"https://colab.research.google.com/assets/colab-badge.svg\" alt=\"Open In Colab\"/>\n",
        "</a>\n",
        "\n"
      ],
      "metadata": {
        "id": "MJmltgTrqFCP"
      }
    },
    {
      "cell_type": "code",
      "source": [
        "readme_content = \"\"\"\n",
        "# Week 2: Advanced Python\n",
        "This week covers advanced Python concepts.\n",
        "\"\"\"\n",
        "with open(\"week2/README.md\", \"w\") as f:\n",
        "    f.write(readme_content)\n",
        "print(\"README.md created in week2 folder!\")\n"
      ],
      "metadata": {
        "colab": {
          "base_uri": "https://localhost:8080/"
        },
        "id": "na9mizCnqOQP",
        "outputId": "23e39115-ff29-4ad8-e06e-99caf5865cef"
      },
      "execution_count": 8,
      "outputs": [
        {
          "output_type": "stream",
          "name": "stdout",
          "text": [
            "README.md created in week2 folder!\n"
          ]
        }
      ]
    },
    {
      "cell_type": "markdown",
      "source": [
        "<a href=\"https://colab.research.google.com/github/JayasriMuruganantham/genai-journey/blob/main/week2/02_advanced_python.ipynb\" target=\"_parent\">\n",
        "<img src=\"https://colab.research.google.com/assets/colab-badge.svg\" alt=\"Open In Colab\"/>\n",
        "</a>\n",
        "\n"
      ],
      "metadata": {
        "id": "pp0yV2NptPB7"
      }
    }
  ]
}